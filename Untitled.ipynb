{
 "cells": [
  {
   "cell_type": "code",
   "execution_count": 65,
   "id": "c8fddce2-5199-443c-8ae3-8371099eadd6",
   "metadata": {},
   "outputs": [],
   "source": [
    "import sqlite3\n",
    "import pandas as pd"
   ]
  },
  {
   "cell_type": "code",
   "execution_count": 66,
   "id": "6881a2c4-ffd4-44b4-8f02-5cbeeecb992c",
   "metadata": {},
   "outputs": [],
   "source": [
    "# Chemin vers la base de données SQLite\n",
    "db_path = 'data/olist.db'\n",
    "\n",
    "# Créer une connexion à la base de données SQLite\n",
    "conn = sqlite3.connect(db_path)"
   ]
  },
  {
   "cell_type": "code",
   "execution_count": 67,
   "id": "37269a3e-f8df-47e1-a536-0e9064265e4b",
   "metadata": {},
   "outputs": [],
   "source": [
    "# Définir la requête SQL\n",
    "query = \"\"\"\n",
    "SELECT *\n",
    "FROM orders\n",
    "WHERE order_status = 'delivered'\n",
    "  AND order_approved_at >= DATE('now', '-3 months')\n",
    "  AND JULIANDAY(order_delivered_customer_date) - JULIANDAY(order_estimated_delivery_date) >= 3;\n",
    "\"\"\"\n",
    "\n",
    "# Exécuter la requête et charger les résultats dans un DataFrame\n",
    "df = pd.read_sql_query(query, conn)\n",
    "\n"
   ]
  },
  {
   "cell_type": "code",
   "execution_count": 68,
   "id": "2f568bd5-dcb6-4416-a042-c44edb978d20",
   "metadata": {},
   "outputs": [
    {
     "data": {
      "text/html": [
       "<div>\n",
       "<style scoped>\n",
       "    .dataframe tbody tr th:only-of-type {\n",
       "        vertical-align: middle;\n",
       "    }\n",
       "\n",
       "    .dataframe tbody tr th {\n",
       "        vertical-align: top;\n",
       "    }\n",
       "\n",
       "    .dataframe thead th {\n",
       "        text-align: right;\n",
       "    }\n",
       "</style>\n",
       "<table border=\"1\" class=\"dataframe\">\n",
       "  <thead>\n",
       "    <tr style=\"text-align: right;\">\n",
       "      <th></th>\n",
       "      <th>index</th>\n",
       "      <th>order_id</th>\n",
       "      <th>customer_id</th>\n",
       "      <th>order_status</th>\n",
       "      <th>order_purchase_timestamp</th>\n",
       "      <th>order_approved_at</th>\n",
       "      <th>order_delivered_carrier_date</th>\n",
       "      <th>order_delivered_customer_date</th>\n",
       "      <th>order_estimated_delivery_date</th>\n",
       "    </tr>\n",
       "  </thead>\n",
       "  <tbody>\n",
       "  </tbody>\n",
       "</table>\n",
       "</div>"
      ],
      "text/plain": [
       "Empty DataFrame\n",
       "Columns: [index, order_id, customer_id, order_status, order_purchase_timestamp, order_approved_at, order_delivered_carrier_date, order_delivered_customer_date, order_estimated_delivery_date]\n",
       "Index: []"
      ]
     },
     "execution_count": 68,
     "metadata": {},
     "output_type": "execute_result"
    }
   ],
   "source": [
    "# Afficher les résultats\n",
    "df.head()  # Affiche les 5 premières lignes du DataFrame"
   ]
  },
  {
   "cell_type": "code",
   "execution_count": 69,
   "id": "70bdb4e5-c3be-4c62-aeea-22c8f65e66ee",
   "metadata": {},
   "outputs": [],
   "source": [
    "# Définir la requête SQL\n",
    "# En excluant les commandes annulées, quelles sont les commandes\n",
    "#  récentes de moins de 3 mois que les clients ont reçues avec au moins 3\n",
    "#  jours de retard \n",
    "query1 = \"\"\"\n",
    "SELECT o.order_id, o.order_status, o.order_approved_at, o.order_delivered_customer_date, o.order_estimated_delivery_date\n",
    "FROM orders o\n",
    "WHERE o.order_status = 'delivered'\n",
    "  AND o.order_approved_at >= DATE('now', '-3 months')\n",
    "  AND JULIANDAY(o.order_delivered_customer_date) - JULIANDAY(o.order_estimated_delivery_date) >= 3;\n",
    "\"\"\"\n",
    "\n",
    "# Exécuter la requête et charger les résultats dans un DataFrame\n",
    "df = pd.read_sql_query(query1, conn)"
   ]
  },
  {
   "cell_type": "code",
   "execution_count": 70,
   "id": "661e0b9e-bd34-49e1-8710-455a848cadb4",
   "metadata": {},
   "outputs": [
    {
     "data": {
      "text/html": [
       "<div>\n",
       "<style scoped>\n",
       "    .dataframe tbody tr th:only-of-type {\n",
       "        vertical-align: middle;\n",
       "    }\n",
       "\n",
       "    .dataframe tbody tr th {\n",
       "        vertical-align: top;\n",
       "    }\n",
       "\n",
       "    .dataframe thead th {\n",
       "        text-align: right;\n",
       "    }\n",
       "</style>\n",
       "<table border=\"1\" class=\"dataframe\">\n",
       "  <thead>\n",
       "    <tr style=\"text-align: right;\">\n",
       "      <th></th>\n",
       "      <th>order_id</th>\n",
       "      <th>order_status</th>\n",
       "      <th>order_approved_at</th>\n",
       "      <th>order_delivered_customer_date</th>\n",
       "      <th>order_estimated_delivery_date</th>\n",
       "    </tr>\n",
       "  </thead>\n",
       "  <tbody>\n",
       "  </tbody>\n",
       "</table>\n",
       "</div>"
      ],
      "text/plain": [
       "Empty DataFrame\n",
       "Columns: [order_id, order_status, order_approved_at, order_delivered_customer_date, order_estimated_delivery_date]\n",
       "Index: []"
      ]
     },
     "execution_count": 70,
     "metadata": {},
     "output_type": "execute_result"
    }
   ],
   "source": [
    "# Afficher les résultats\n",
    "df.head()  # Affiche les 5 premières lignes du DataFrame"
   ]
  },
  {
   "cell_type": "code",
   "execution_count": 71,
   "id": "0e1ce10c-fd58-4fa2-8776-9ad5822da534",
   "metadata": {},
   "outputs": [],
   "source": [
    "# Définir la requête SQL\n",
    "# Qui sont les vendeurs ayant généré un chiffre d'affaires de plus de 100\n",
    "#  000Real sur des commandeslivrées via Olist ?\n",
    " \n",
    "query2 = \"\"\"\n",
    "SELECT oi.seller_id, SUM(oi.price) AS total_revenue\n",
    "FROM order_items oi\n",
    "JOIN orders o ON oi.order_id = o.order_id\n",
    "WHERE o.order_status = 'delivered'\n",
    "GROUP BY oi.seller_id\n",
    "HAVING total_revenue > 100000;\n",
    "\"\"\"\n",
    "\n",
    "# Exécuter la requête et charger les résultats dans un DataFrame\n",
    "df = pd.read_sql_query(query2, conn)"
   ]
  },
  {
   "cell_type": "code",
   "execution_count": 72,
   "id": "59c94a9c-bb6e-4da8-b462-0d85df3242cf",
   "metadata": {},
   "outputs": [
    {
     "data": {
      "text/html": [
       "<div>\n",
       "<style scoped>\n",
       "    .dataframe tbody tr th:only-of-type {\n",
       "        vertical-align: middle;\n",
       "    }\n",
       "\n",
       "    .dataframe tbody tr th {\n",
       "        vertical-align: top;\n",
       "    }\n",
       "\n",
       "    .dataframe thead th {\n",
       "        text-align: right;\n",
       "    }\n",
       "</style>\n",
       "<table border=\"1\" class=\"dataframe\">\n",
       "  <thead>\n",
       "    <tr style=\"text-align: right;\">\n",
       "      <th></th>\n",
       "      <th>seller_id</th>\n",
       "      <th>total_revenue</th>\n",
       "    </tr>\n",
       "  </thead>\n",
       "  <tbody>\n",
       "    <tr>\n",
       "      <th>0</th>\n",
       "      <td>1025f0e2d44d7041d6cf58b6550e0bfa</td>\n",
       "      <td>138208.56</td>\n",
       "    </tr>\n",
       "    <tr>\n",
       "      <th>1</th>\n",
       "      <td>1f50f920176fa81dab994f9023523100</td>\n",
       "      <td>106655.71</td>\n",
       "    </tr>\n",
       "    <tr>\n",
       "      <th>2</th>\n",
       "      <td>46dc3b2cc0980fb8ec44634e21d2718e</td>\n",
       "      <td>122811.38</td>\n",
       "    </tr>\n",
       "    <tr>\n",
       "      <th>3</th>\n",
       "      <td>4869f7a5dfa277a7dca6462dcf3b52b2</td>\n",
       "      <td>226987.93</td>\n",
       "    </tr>\n",
       "    <tr>\n",
       "      <th>4</th>\n",
       "      <td>4a3ca9315b744ce9f8e9374361493884</td>\n",
       "      <td>196882.12</td>\n",
       "    </tr>\n",
       "    <tr>\n",
       "      <th>5</th>\n",
       "      <td>53243585a1d6dc2643021fd1853d8905</td>\n",
       "      <td>217940.44</td>\n",
       "    </tr>\n",
       "    <tr>\n",
       "      <th>6</th>\n",
       "      <td>5dceca129747e92ff8ef7a997dc4f8ca</td>\n",
       "      <td>111126.73</td>\n",
       "    </tr>\n",
       "    <tr>\n",
       "      <th>7</th>\n",
       "      <td>620c87c171fb2a6dd6e8bb4dec959fc6</td>\n",
       "      <td>112461.50</td>\n",
       "    </tr>\n",
       "    <tr>\n",
       "      <th>8</th>\n",
       "      <td>6560211a19b47992c3666cc44a7e94c0</td>\n",
       "      <td>120702.83</td>\n",
       "    </tr>\n",
       "    <tr>\n",
       "      <th>9</th>\n",
       "      <td>7a67c85e85bb2ce8582c35f2203ad736</td>\n",
       "      <td>139658.69</td>\n",
       "    </tr>\n",
       "  </tbody>\n",
       "</table>\n",
       "</div>"
      ],
      "text/plain": [
       "                          seller_id  total_revenue\n",
       "0  1025f0e2d44d7041d6cf58b6550e0bfa      138208.56\n",
       "1  1f50f920176fa81dab994f9023523100      106655.71\n",
       "2  46dc3b2cc0980fb8ec44634e21d2718e      122811.38\n",
       "3  4869f7a5dfa277a7dca6462dcf3b52b2      226987.93\n",
       "4  4a3ca9315b744ce9f8e9374361493884      196882.12\n",
       "5  53243585a1d6dc2643021fd1853d8905      217940.44\n",
       "6  5dceca129747e92ff8ef7a997dc4f8ca      111126.73\n",
       "7  620c87c171fb2a6dd6e8bb4dec959fc6      112461.50\n",
       "8  6560211a19b47992c3666cc44a7e94c0      120702.83\n",
       "9  7a67c85e85bb2ce8582c35f2203ad736      139658.69"
      ]
     },
     "execution_count": 72,
     "metadata": {},
     "output_type": "execute_result"
    }
   ],
   "source": [
    "# Afficher les résultats\n",
    "# Augmenter le nombre de lignes affichées\n",
    "pd.set_option('display.max_rows', None)\n",
    "df.head(10)  # Affiche les 5 premières lignes du DataFrame"
   ]
  },
  {
   "cell_type": "code",
   "execution_count": 73,
   "id": "1ef9dd57-6f63-4882-9ffe-34d5f7e87db0",
   "metadata": {},
   "outputs": [],
   "source": [
    "# Définir la requête SQL\n",
    " # Qui sont les nouveaux vendeurs (moins de 3 mois d'ancienneté) qui\n",
    " # sont déjà très engagés avec la plateforme (ayant déjà vendu plus de 30\n",
    " # produits) ?\n",
    "query3 = \"\"\"\n",
    "SELECT oi.seller_id, COUNT(oi.order_item_id) AS product_count\n",
    "FROM order_items oi\n",
    "JOIN orders o ON oi.order_id = o.order_id\n",
    "WHERE o.order_status = 'delivered'\n",
    "  AND o.order_approved_at >= DATE('now', '-3 months')\n",
    "GROUP BY oi.seller_id\n",
    "HAVING product_count > 30;\n",
    "\"\"\"\n",
    "\n",
    "# Exécuter la requête et charger les résultats dans un DataFrame\n",
    "df = pd.read_sql_query(query3, conn)"
   ]
  },
  {
   "cell_type": "code",
   "execution_count": 74,
   "id": "b3fea5b9-288c-4310-a929-953b85a2c23d",
   "metadata": {},
   "outputs": [
    {
     "data": {
      "text/html": [
       "<div>\n",
       "<style scoped>\n",
       "    .dataframe tbody tr th:only-of-type {\n",
       "        vertical-align: middle;\n",
       "    }\n",
       "\n",
       "    .dataframe tbody tr th {\n",
       "        vertical-align: top;\n",
       "    }\n",
       "\n",
       "    .dataframe thead th {\n",
       "        text-align: right;\n",
       "    }\n",
       "</style>\n",
       "<table border=\"1\" class=\"dataframe\">\n",
       "  <thead>\n",
       "    <tr style=\"text-align: right;\">\n",
       "      <th></th>\n",
       "      <th>seller_id</th>\n",
       "      <th>product_count</th>\n",
       "    </tr>\n",
       "  </thead>\n",
       "  <tbody>\n",
       "  </tbody>\n",
       "</table>\n",
       "</div>"
      ],
      "text/plain": [
       "Empty DataFrame\n",
       "Columns: [seller_id, product_count]\n",
       "Index: []"
      ]
     },
     "execution_count": 74,
     "metadata": {},
     "output_type": "execute_result"
    }
   ],
   "source": [
    "# Afficher les résultats\n",
    "df.head()  # Affiche les 5 premières lignes du DataFrame"
   ]
  },
  {
   "cell_type": "code",
   "execution_count": 75,
   "id": "28304a11-360d-42a2-b28a-1a99f6c26032",
   "metadata": {},
   "outputs": [],
   "source": [
    "# Définir la requête SQL\n",
    " # Question : Quels sont les 5 codes postaux, enregistrant plus de 30\n",
    " # reviews, avec le pire review score moyen sur les 12 derniers mois \n",
    "query4 = \"\"\"\n",
    "SELECT c.customer_zip_code_prefix, AVG(r.review_score) AS avg_review_score, COUNT(r.review_id) AS review_count\n",
    "FROM order_reviews r\n",
    "JOIN orders o ON r.order_id = o.order_id\n",
    "JOIN customers c ON o.customer_id = c.customer_id\n",
    "WHERE r.review_creation_date >= DATE('now', '-12 months')\n",
    "GROUP BY c.customer_zip_code_prefix\n",
    "HAVING review_count > 30\n",
    "ORDER BY avg_review_score ASC\n",
    "LIMIT 5;\n",
    "\"\"\"\n",
    "\n",
    "# Exécuter la requête et charger les résultats dans un DataFrame\n",
    "df = pd.read_sql_query(query4, conn)"
   ]
  },
  {
   "cell_type": "code",
   "execution_count": 76,
   "id": "c780ea56-5868-4aff-b0e8-ca8a8845eec0",
   "metadata": {},
   "outputs": [
    {
     "data": {
      "text/html": [
       "<div>\n",
       "<style scoped>\n",
       "    .dataframe tbody tr th:only-of-type {\n",
       "        vertical-align: middle;\n",
       "    }\n",
       "\n",
       "    .dataframe tbody tr th {\n",
       "        vertical-align: top;\n",
       "    }\n",
       "\n",
       "    .dataframe thead th {\n",
       "        text-align: right;\n",
       "    }\n",
       "</style>\n",
       "<table border=\"1\" class=\"dataframe\">\n",
       "  <thead>\n",
       "    <tr style=\"text-align: right;\">\n",
       "      <th></th>\n",
       "      <th>customer_zip_code_prefix</th>\n",
       "      <th>avg_review_score</th>\n",
       "      <th>review_count</th>\n",
       "    </tr>\n",
       "  </thead>\n",
       "  <tbody>\n",
       "  </tbody>\n",
       "</table>\n",
       "</div>"
      ],
      "text/plain": [
       "Empty DataFrame\n",
       "Columns: [customer_zip_code_prefix, avg_review_score, review_count]\n",
       "Index: []"
      ]
     },
     "execution_count": 76,
     "metadata": {},
     "output_type": "execute_result"
    }
   ],
   "source": [
    "# Afficher les résultats\n",
    "df.head()  # Affiche les 5 premières lignes du DataFrame"
   ]
  },
  {
   "cell_type": "code",
   "execution_count": 77,
   "id": "44b06d8a-4338-4738-8f85-c15923a99530",
   "metadata": {},
   "outputs": [],
   "source": [
    "# Fermer la connexion à la base de données\n",
    "conn.close()"
   ]
  },
  {
   "cell_type": "code",
   "execution_count": null,
   "id": "5457f302-503e-44bc-aa15-1e48a8b83d3e",
   "metadata": {},
   "outputs": [],
   "source": []
  },
  {
   "cell_type": "code",
   "execution_count": null,
   "id": "acd8775c-3c5a-4b46-9b13-5d750552294d",
   "metadata": {},
   "outputs": [],
   "source": []
  }
 ],
 "metadata": {
  "kernelspec": {
   "display_name": "Segmenter Des Clients (Poetry)",
   "language": "python",
   "name": "segmenter-des-clients-30gzothh-py3.10"
  },
  "language_info": {
   "codemirror_mode": {
    "name": "ipython",
    "version": 3
   },
   "file_extension": ".py",
   "mimetype": "text/x-python",
   "name": "python",
   "nbconvert_exporter": "python",
   "pygments_lexer": "ipython3",
   "version": "3.10.0"
  }
 },
 "nbformat": 4,
 "nbformat_minor": 5
}
